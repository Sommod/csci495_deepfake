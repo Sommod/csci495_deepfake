{
 "cells": [
  {
   "cell_type": "code",
   "execution_count": 3,
   "id": "a99a35bf-cdf4-443b-a690-793e87cd7547",
   "metadata": {
    "editable": true,
    "slideshow": {
     "slide_type": ""
    },
    "tags": []
   },
   "outputs": [],
   "source": [
    "#import your data as a zip file this cell will extract your images into the DeepfakeDetectionImagesFolder \n",
    "#the next cells will process the images as needed\n",
    "#theoretically we will all put our zip files in here and extract them all into the folder then rearrange the folder so that all images are in thier own grouped files\n",
    "import zipfile as zip \n",
    "files =zip.ZipFile(\"DeepfakeDetectionFiles/real_and_fake_face_detection.zip\",'r' )#change real_and_fake_face as needed for your zip file name\n",
    "files.extractall('DeepfakeDetectionFiles/DeepfakeDetectionImageFolder')\n",
    "files.close()\n"
   ]
  },
  {
   "cell_type": "code",
   "execution_count": 19,
   "id": "02a42215-96d3-4458-9b49-7276bb6e9bfb",
   "metadata": {},
   "outputs": [],
   "source": [
    "import numpy as np\n",
    "import matplotlib.pyplot as plt\n",
    "from PIL import Image\n",
    "import os\n",
    "\n",
    "#these can be adjusted for your files as needed\n",
    "#is file path my filepath is awful hopefully yours will be better\n",
    "#i have no idea what format your images will be in so ive compiled a list of those that I can think of if yours isnt there tough add it in\n",
    "        \n",
    "for files in os.listdir('DeepfakeDetectionFiles/DeepfakeDetectionImageFolder/real_and_fake_face_detection/real_and_fake_face/training_fake'):\n",
    "    if files.lower().endswith(('.png', '.jpg', '.jpeg', '.gif', '.bmp', '.tiff')): \n",
    "        imagePath=os.path.join('DeepfakeDetectionFiles/DeepfakeDetectionImageFolder/real_and_fake_face_detection/real_and_fake_face/training_fake',files)\n",
    "        try:\n",
    "            img=Image.open(imagePath)\n",
    "            #a new filepath to save the images to\n",
    "            newFilepath=os.path.join('DeepfakeDetectionFiles/DeepfakeDetectionImageFolder/GreyScaledImages',files)\n",
    "            #processing face extraction and greyscale for now\n",
    "\n",
    "            #converts to greyscale using L rather than P L is black and white whereas P is color palate\n",
    "            greyImage=img.convert('L')\n",
    "            greyImage.save(newFilepath)\n",
    "            \n",
    "            img.close()\n",
    "        except Exception as e:\n",
    "            print(f\"Error in processing {files}:{e}\")"
   ]
  },
  {
   "cell_type": "markdown",
   "id": "80bb867f-2ed2-42dd-8f06-39b7c48acf93",
   "metadata": {
    "editable": true,
    "slideshow": {
     "slide_type": ""
    },
    "tags": []
   },
   "source": [
    "This is a markdown cell that will contain a list of file paths that may or may not be useful\n",
    "Alex Shin\n",
    "Real Training data\n",
    "DeepfakeDetectionFiles/DeepfakeDetectionImageFolder/real_and_fake_face_detection/real_and_fake_face/training_real\n",
    "\n",
    "Fake training data\n",
    "DeepfakeDetectionFiles/DeepfakeDetectionImageFolder/real_and_fake_face_detection/real_and_fake_face/training_fake\n",
    "\n",
    "my zip file\n",
    "DeepfakeDetectionFiles/real_and_fake_face_detection.zip\n",
    "\n",
    "\n",
    "These may be useful to all team members\n",
    "\n",
    "Deepfake Image Folder\n",
    "DeepfakeDetectionFiles/DeepfakeDetectionImageFolder\n",
    "\n",
    "GreyScaled Images\n",
    "DeepfakeDetectionFiles/DeepfakeDetectionImageFolder/GreyScaledImages\n",
    "\n",
    "Extracted Faces\n",
    "DeepfakeDetectionFiles/DeepfakeDetectionImageFolder/FacesExtracted"
   ]
  },
  {
   "cell_type": "code",
   "execution_count": null,
   "id": "e855cdab-2228-4c64-98b7-375bada3c1bf",
   "metadata": {},
   "outputs": [],
   "source": []
  }
 ],
 "metadata": {
  "kernelspec": {
   "display_name": "Python 3 (ipykernel)",
   "language": "python",
   "name": "python3"
  },
  "language_info": {
   "codemirror_mode": {
    "name": "ipython",
    "version": 3
   },
   "file_extension": ".py",
   "mimetype": "text/x-python",
   "name": "python",
   "nbconvert_exporter": "python",
   "pygments_lexer": "ipython3",
   "version": "3.12.7"
  }
 },
 "nbformat": 4,
 "nbformat_minor": 5
}
