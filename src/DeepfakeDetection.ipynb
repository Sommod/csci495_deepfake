{
 "cells": [
  {
   "cell_type": "code",
   "execution_count": 3,
   "id": "a99a35bf-cdf4-443b-a690-793e87cd7547",
   "metadata": {
    "editable": true,
    "slideshow": {
     "slide_type": ""
    },
    "tags": []
   },
   "outputs": [],
   "source": [
    "#import your data as a zip file this cell will extract your images into the DeepfakeDetectionImagesFolder \n",
    "#the next cells will process the images as needed\n",
    "#theoretically we will all put our zip files in here and extract them all into the folder then rearrange the folder so that all images are in thier own grouped files\n",
    "import zipfile as zip \n",
    "files =zip.ZipFile(\"DeepfakeDetectionFiles/real_and_fake_face_detection.zip\",'r' )#change real_and_fake_face as needed for your zip file name\n",
    "files.extractall('DeepfakeDetectionFiles/DeepfakeDetectionImageFolder')\n",
    "files.close()\n"
   ]
  },
  {
   "cell_type": "code",
   "execution_count": null,
   "id": "02a42215-96d3-4458-9b49-7276bb6e9bfb",
   "metadata": {},
   "outputs": [],
   "source": []
  }
 ],
 "metadata": {
  "kernelspec": {
   "display_name": "Python 3 (ipykernel)",
   "language": "python",
   "name": "python3"
  },
  "language_info": {
   "codemirror_mode": {
    "name": "ipython",
    "version": 3
   },
   "file_extension": ".py",
   "mimetype": "text/x-python",
   "name": "python",
   "nbconvert_exporter": "python",
   "pygments_lexer": "ipython3",
   "version": "3.12.7"
  }
 },
 "nbformat": 4,
 "nbformat_minor": 5
}
