{
  "metadata": {
    "kernelspec": {
      "name": "python",
      "display_name": "Python (Pyodide)",
      "language": "python"
    },
    "language_info": {
      "codemirror_mode": {
        "name": "python",
        "version": 3
      },
      "file_extension": ".py",
      "mimetype": "text/x-python",
      "name": "python",
      "nbconvert_exporter": "python",
      "pygments_lexer": "ipython3",
      "version": "3.8"
    }
  },
  "nbformat_minor": 5,
  "nbformat": 4,
  "cells": [
    {
      "id": "2ada7ec0-6d23-4d2c-8474-0364070775ee",
      "cell_type": "code",
      "source": "# Imports needed for the Watershed method\nimport cv2\nimport numpy as np\n\n# Contain with either a LOOP or METHOD\n# Intake an image (already grey-scaled)\nimage = cv2.imread(\"\"\"Image Input Method\"\"\" 'IMAGE.jpg')\nret, threst = cv2.threshold(image, 0, 255, cv2.THRESH_BINARY_INV + cv2.THRESH_OTSU)\n\n# Need to remove noise from the image\nkernel = np.ones((3,3), np.uint8)\nopening = cv2.morphologyEx(thresh, cv2.MORPH_OPEN, kernel, iterations = 2)\n\n# Ensure the correct background of the image\nsure_bg = cv2.dilate(opening, kernel, iterations = 3)\n\n# Ensure the correct foreground of the image\ndist_transform = cv2.distanceTransform(opening, cv2.DIST_L2, 5)\nret, sure_fg = cv2.threshold(dist_transform, 0.7 * dist_transform.max(), 255, 0)\n\n# Finding unknown region\nsure_fg = np.uint8(sure_fg)\nunknown = cv2.subtract(sure_bg, sure_fg)\n\n# Marker labelling\nret, markers = cv2.connectedComponents(sure_fg)\n\n# Add one to all labels so that sure background is not 0, but 1\nmarkers = markers + 1\n\n# Now, mark the region of unknown with zero\nmarkers[unknown == 255] = 0\nmarkers = cv2.watershed(image, markers)\nimage[markers == -1] = [255,0,0] # Marking the borders with red\n",
      "metadata": {
        "trusted": true
      },
      "outputs": [
        {
          "name": "stderr",
          "output_type": "stream",
          "text": "Matplotlib is building the font cache; this may take a moment.\n"
        },
        {
          "name": "stdout",
          "output_type": "stream",
          "text": "Hello\n"
        }
      ],
      "execution_count": 2
    },
    {
      "id": "f73f982c-594e-4622-aa4f-b0c95f4787e7",
      "cell_type": "code",
      "source": "# imports needed for Contour Dectection Method\nimport cv2\nimport numpy as np\n\n# Input image. (Note: This image should be GREY-SCALED).\nimage = cv2.imread(\"\"\"Image Input Method\"\"\" 'IMAGE.jpg')\n\n# Thresh image and find the Contours of the image\nret, thresh = cv2.threshold(image, 127, 255, 0)\ncontours, hierarchy = cv2.findContours(thresh, cv2.RETR_TREE, cv2.CHAIN_APPROX_SIMPLE)\n\n# Draw the Contours onto the image for further processing\nfor contour in contours:\n    cv2.drawContours(image, [contour], 0, (0,255,0), 3)",
      "metadata": {
        "trusted": true
      },
      "outputs": [],
      "execution_count": null
    }
  ]
}